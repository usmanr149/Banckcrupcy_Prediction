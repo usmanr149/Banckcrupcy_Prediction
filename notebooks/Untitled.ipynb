{
 "cells": [
  {
   "cell_type": "code",
   "execution_count": 1,
   "id": "8ed1e8a9",
   "metadata": {},
   "outputs": [],
   "source": [
    "from library import *"
   ]
  },
  {
   "cell_type": "code",
   "execution_count": 2,
   "id": "3514bf74",
   "metadata": {},
   "outputs": [],
   "source": [
    "data_location = '../DSI_output/'\n",
    "\n",
    "name = 'binary'\n",
    "dev = False\n",
    "# number of documents used for prediction\n",
    "n = 3 # 1 or 3\n",
    "# resample the training data with balance_prop % of failed firm-year samples (e.g. 5%, 10% or 50%)\n",
    "# uses under-sampling of the majority class\n",
    "balance = True\n",
    "balance_prop = 10"
   ]
  },
  {
   "cell_type": "code",
   "execution_count": 3,
   "id": "d4f256f1",
   "metadata": {},
   "outputs": [],
   "source": [
    "k_range = [10000, 25000, 'all']\n",
    "C_range = [1e-05, 1e-03, 0.05, 0.1, 0.15, 0.5, 1, 10, 100, 1000, 5000]"
   ]
  },
  {
   "cell_type": "code",
   "execution_count": 4,
   "id": "0f86a2d4",
   "metadata": {},
   "outputs": [],
   "source": [
    "# the range of n_grams to use (e.g. (1,2) means uni- and bi-grams)\n",
    "n_grams = (1, 2)\n",
    "# the feature extraction method, CountVectorizer creates binary features, TfidfVectorizer creates TFIDF features.\n",
    "feature = CountVectorizer(binary=True, ngram_range=n_grams)"
   ]
  },
  {
   "cell_type": "code",
   "execution_count": 5,
   "id": "af4def83",
   "metadata": {},
   "outputs": [],
   "source": [
    "train = pd.read_csv(data_location + 'model_data/bow/train_full_bow_' + str(n) + '.csv', index_col=0)\n",
    "holdout = pd.read_csv(data_location + 'model_data/bow/holdout_bow_' + str(n) + '.csv', index_col=0)\n",
    "# split up the holdout set\n",
    "holdout1 = holdout[holdout['holdout_year'] == 2019]\n",
    "holdout2 = holdout[holdout['holdout_year'] == 2020]"
   ]
  },
  {
   "cell_type": "code",
   "execution_count": 6,
   "id": "a7cc265c",
   "metadata": {},
   "outputs": [
    {
     "data": {
      "text/html": [
       "<div>\n",
       "<style scoped>\n",
       "    .dataframe tbody tr th:only-of-type {\n",
       "        vertical-align: middle;\n",
       "    }\n",
       "\n",
       "    .dataframe tbody tr th {\n",
       "        vertical-align: top;\n",
       "    }\n",
       "\n",
       "    .dataframe thead th {\n",
       "        text-align: right;\n",
       "    }\n",
       "</style>\n",
       "<table border=\"1\" class=\"dataframe\">\n",
       "  <thead>\n",
       "    <tr style=\"text-align: right;\">\n",
       "      <th></th>\n",
       "      <th>cik</th>\n",
       "      <th>year_1</th>\n",
       "      <th>year_2</th>\n",
       "      <th>year_3</th>\n",
       "      <th>label</th>\n",
       "    </tr>\n",
       "  </thead>\n",
       "  <tbody>\n",
       "    <tr>\n",
       "      <th>0</th>\n",
       "      <td>1310724</td>\n",
       "      <td>missing</td>\n",
       "      <td>missing</td>\n",
       "      <td>19208</td>\n",
       "      <td>0</td>\n",
       "    </tr>\n",
       "    <tr>\n",
       "      <th>1</th>\n",
       "      <td>1310738</td>\n",
       "      <td>missing</td>\n",
       "      <td>missing</td>\n",
       "      <td>19209</td>\n",
       "      <td>0</td>\n",
       "    </tr>\n",
       "    <tr>\n",
       "      <th>2</th>\n",
       "      <td>1343512</td>\n",
       "      <td>missing</td>\n",
       "      <td>missing</td>\n",
       "      <td>20131</td>\n",
       "      <td>0</td>\n",
       "    </tr>\n",
       "    <tr>\n",
       "      <th>3</th>\n",
       "      <td>1081369</td>\n",
       "      <td>14182</td>\n",
       "      <td>14181</td>\n",
       "      <td>14180</td>\n",
       "      <td>0</td>\n",
       "    </tr>\n",
       "    <tr>\n",
       "      <th>4</th>\n",
       "      <td>1081369</td>\n",
       "      <td>missing</td>\n",
       "      <td>14182</td>\n",
       "      <td>14181</td>\n",
       "      <td>0</td>\n",
       "    </tr>\n",
       "  </tbody>\n",
       "</table>\n",
       "</div>"
      ],
      "text/plain": [
       "       cik   year_1   year_2 year_3  label\n",
       "0  1310724  missing  missing  19208      0\n",
       "1  1310738  missing  missing  19209      0\n",
       "2  1343512  missing  missing  20131      0\n",
       "3  1081369    14182    14181  14180      0\n",
       "4  1081369  missing    14182  14181      0"
      ]
     },
     "execution_count": 6,
     "metadata": {},
     "output_type": "execute_result"
    }
   ],
   "source": [
    "train.head()"
   ]
  },
  {
   "cell_type": "code",
   "execution_count": 7,
   "id": "9bed0e78",
   "metadata": {},
   "outputs": [],
   "source": [
    "save_location = data_location + 'results_' + name + '/'\n",
    "store_location = data_location + 'intermediate_processed/'"
   ]
  },
  {
   "cell_type": "code",
   "execution_count": 8,
   "id": "1c7a538c",
   "metadata": {},
   "outputs": [],
   "source": [
    "healthy = pd.read_csv(store_location + 'healthy_bow.csv', index_col=0).reset_index(drop=True)\n",
    "failed = pd.read_csv(store_location + 'failed_bow.csv', index_col=0).reset_index(drop=True)"
   ]
  },
  {
   "cell_type": "code",
   "execution_count": 9,
   "id": "1be0c6e2",
   "metadata": {},
   "outputs": [
    {
     "data": {
      "text/plain": [
       "\"item 7. management 's discussion analysis financial condition result operation fiscal year ended april 30 2000 1999 1998. result operation revenue revenue continuing operation 2000 _UNK_ compared _UNK_ _UNK_ 1999 1998 respectively represents increase revenue 1 2000 5 1999. revenue include interest income _UNK_ _UNK_ _UNK_ 2000 1999 1998 respectively income _UNK_ _UNK_ _UNK_ 2000 1999 1998 respectively figure chart include interest income income intersegment revenue one segment involved revenue reported segment sell product service unaffiliated purchaser cost applicable segment revenue percentage total segment revenue see chart applicable total segment cost see chart b _UNK_ 2000 _UNK_ 1999 _UNK_ 1998 89 92 89 respectively selling shipping general administrative expense year 2000 1999 1998 selling shipping general administrative expense see chart c _UNK_ _UNK_ _UNK_ respectively percentage consolidated revenue expense 6 three year reviewing chart c reader recognize volume revenue generally would affect amount percentage percentage chart c based expense relate segment revenue chart exception parent expense total expense relate consolidated revenue interest cost majority interest cost expensed _UNK_ _UNK_ _UNK_ 2000 1999 1998 respectively related debt real estate utilization line credit interest cost increased 2000 primarily due purchase jacksonville florida shopping center 1999 primarily due bond financing _UNK_ spring georgia manufacturing facility wa sold april 2000. interest cost 199,000 112,000 relating property development 1999 1998 respectively capitalized wa capitalized interest 2000. financial condition change financial condition property held sale decreased _UNK_ 2000 result sale shopping center newnan georgia eminent domain taking company 's former manufacturing facility located atlanta georgia discussed `` item 2 property `` mortgage debt associated newnan shopping center wa included current maturity long-term debt april 30 1999. income producing property increased _UNK_ 2000 primarily result purchase shopping center jacksonville florida mortgage note used finance purchase jacksonville shopping center classified mortgage note payable april 30 2000. see `` item 2. property `` discussion property plant equipment decreased _UNK_ 2000 primarily result sale company 's manufacturing facility located _UNK_ spring georgia related fixed asset see `` item 2. property `` `` discontinued operation `` information liquidity capital resource except certain real estate construction loan occasional short-term operating loan company normally ha able finance working capital need fund generated internally adequate fund generated normal operation company ha available bank line credit working capital increased _UNK_ end 2000 _UNK_ end 1999. operating activity provided cash _UNK_ investing activity used cash _UNK_ primarily purchase income-producing property wa substantially offset proceeds sale real estate property plant equipment financing activity used cash _UNK_ primarily repayment debt short-term borrowing 1992 company secured construction loan north fort myers florida property suntrust bank primary term construction financing wa five year loan ha extended august 2001 accordance loan agreement amended loan carry floating interest rate prime plus .375 maximum amount funded determined formula based future development april 30 2000 principal amount outstanding wa _UNK_ although company ha periodically received extension loan assurance able continue future extension granted would necessary company either refinance sell development pay loan prior due date assurance sufficient proceeds refinancing sale available pay loan prior maturity august 1997 company refinanced jackson michigan shopping center replacing 2,100,000 construction loan permanent loan 3,500,000 permanent loan original term 22 year bear interest 8.625 certain provision loan amended august 1999 required establishment 500,000 letter credit closing used pay loan august 2000 certain leasing requirement met april 30 2000 requirement met assurance met august 2000 provision amended extend date compliance october 1997 company entered acquisition construction loan suntrust bank fund purchase redevelopment corporate headquarters building atlanta georgia loan balance april 30 2000 _UNK_ term ha extended august 2001. assurance extension granted company ha option paying interest prime rate based eurodollar rate plus 2.0 may locked one two three six month period company 's discretion company plan refinance loan prior maturity however assurance refinancing take place prior loan 's due date july 1999 connection financing purchase company 's new shopping center jacksonville florida company entered permanent mortgage loan amount 9,500,000 secured center loan bear interest 7.375 scheduled fully amortized twenty year lender may call loan time september 1 2002. loan called company would thirteen month repay principal amount loan without penalty conjunction loan additional interest agreement wa executed entitles lender paid additional interest equal fifty percent quarterly net cash flow fifty percent appreciation property upon sale refinance liability related lender 's fifty percent share appreciation property wa _UNK_ april 30 2000. february 2000 company 's board director authorized repurchase 200,000 share common stock twelve-month period beginning february 25 2000 ending february 24 2001. purchase made could open market prevailing price privately negotiated transaction company expects finance purchase made currently available cash stock repurchase made april 30 2000. april 2000 connection sale company 's _UNK_ spring georgia manufacturing facility 11,000,000 bond financing wa secured facility wa assumed purchaser property april 30 2000 company unsecured committed line credit totaling 13,000,000 none wa outstanding amount 500,000 wa reserved letter credit issued jackson michigan loan discussed effect inflation revenue operating profit effect inflation upon company 's operating result varied inflation current year ha modest ha minimal effect company construction segment subcontract work fixed price normally help segment protect profit margin erosion due inflation real estate segment many anchor lease long-term original term 20 year fixed rent except contingent rent provision company may earn additional rent result increase tenant sale many case however contingent rent provision permit tenant offset contingent rent increase ad valorem tax specified amount inflation rise ad valorem tax would probably increase well turn would cause decrease contingent rent furthermore company ha certain repair obligation cost repair increase inflation inflation cause rise interest rate ha positive effect investment income ha negative effect profit margin increased cost contract increase interest expense variable rate loan overall inflation tend limit company 's market turn reduce revenue well operating profit earnings cautionary statement regarding forward-looking information certain statement contained incorporated reference annual report form 10-k including without limitation statement containing word `` belief `` `` anticipates `` `` expects `` word similar import forward-looking statement within meaning federal security law forward-looking statement involve known unknown risk uncertainty matter may cause actual result performance achievement company materially different future result performance uncertainty expressed implied forward-looking statement consideration strategic alternative company announced june 8 1999 board director decided investigate wide range possible strategic financial alternative available maximize shareholder value investigation ha completed resulted discontinuance company 's manufacturing operation see `` discontinued operation `` also result investigation subsequent fiscal year end company entered agreement outsource property management certain company 's commercial real estate asset third party additionally company ha entered letter intent contract asset management activity _UNK_ partner llc company newly formed executive real estate segment company would maintain minority interest company plan continue invest real estate discontinued operation quarter ended january 31 2000 board director company decided discontinue operation manufacturing segment financial statement reflect operating result business discontinued operation prior year financial information ha appropriately reclassified see note 3 consolidated financial statement company february 2 2000 company closed sale manufacturing segment 's machinery equipment furniture raw material inventory 2.2 million company recorded tax loss discontinued operation _UNK_ fiscal year ended april 30 2000. april 30 2000 manufacturing segment ceased operation disposed substantially asset remaining asset liability manufacturing segment consolidated presented net asset discontinued operation consolidated balance sheet april 30 2000. included reduction net asset discontinued operation approximately 2.76 million deferred gain eminent domain taking company 's former manufacturing facility atlanta georgia amount condemnation award currently appeal party ultimate outcome unknown time\""
      ]
     },
     "execution_count": 9,
     "metadata": {},
     "output_type": "execute_result"
    }
   ],
   "source": [
    "healthy['item_7'].iloc[0]"
   ]
  },
  {
   "cell_type": "code",
   "execution_count": null,
   "id": "9d26981f",
   "metadata": {},
   "outputs": [],
   "source": [
    "all_docs = pd.concat([healthy, failed]).reset_index(drop=True)\n",
    "all_docs = all_docs.astype({'doc_id': str})\n",
    "all_docs = all_docs[['item_7', 'doc_id']]\n",
    "all_docs = all_docs._append(pd.DataFrame({'item_7': 'missing', 'doc_id': 'missing'}, index=[len(all_docs)]))\n",
    "del healthy, failed"
   ]
  },
  {
   "cell_type": "code",
   "execution_count": null,
   "id": "249ebe45",
   "metadata": {},
   "outputs": [],
   "source": [
    "all_docs.head()"
   ]
  },
  {
   "cell_type": "code",
   "execution_count": null,
   "id": "e56f9d7a",
   "metadata": {},
   "outputs": [],
   "source": [
    "variables_to_swap = ['year_1', 'year_2', 'year_3']"
   ]
  },
  {
   "cell_type": "code",
   "execution_count": null,
   "id": "580e3638",
   "metadata": {},
   "outputs": [],
   "source": [
    "train.head(2)"
   ]
  },
  {
   "cell_type": "code",
   "execution_count": null,
   "id": "ed564113",
   "metadata": {},
   "outputs": [],
   "source": [
    "all_docs.head(2)"
   ]
  },
  {
   "cell_type": "code",
   "execution_count": null,
   "id": "5fb98aab",
   "metadata": {},
   "outputs": [],
   "source": [
    "pd.merge(train, all_docs, left_on='year_1', right_on='doc_id', how='left')"
   ]
  },
  {
   "cell_type": "code",
   "execution_count": null,
   "id": "ff83ccc0",
   "metadata": {},
   "outputs": [],
   "source": [
    "for variable in variables_to_swap:\n",
    "    # left merge the firm-year sample dataset with the document dataset on doc_id\n",
    "    train = pd.merge(train, all_docs, left_on=variable, right_on='doc_id', how='left')\n",
    "    holdout = pd.merge(holdout, all_docs, left_on=variable, right_on='doc_id', how='left')\n",
    "    # rename the variable to the corresponding text\n",
    "    train[variable] = train['item_7']\n",
    "    holdout[variable] = holdout['item_7']\n",
    "    # remove the unnecessary variables\n",
    "    train = train.drop(['item_7', 'doc_id'], axis=1)\n",
    "    holdout = holdout.drop(['item_7', 'doc_id'], axis=1)\n",
    "    # cast to string\n",
    "    train = train.astype({variable: str})\n",
    "    holdout = holdout.astype({variable: str})"
   ]
  },
  {
   "cell_type": "code",
   "execution_count": null,
   "id": "fd28cae2",
   "metadata": {},
   "outputs": [],
   "source": [
    "train = train.sample(frac = 1)"
   ]
  },
  {
   "cell_type": "code",
   "execution_count": null,
   "id": "5e06bce1",
   "metadata": {},
   "outputs": [],
   "source": [
    "X_train = np.array(train['year_1'] + ' ' + train['year_2'] + ' ' + train['year_3'])\n",
    "y_train = np.array(train['label'])\n",
    "\n",
    "X_hol1 = np.array(holdout1['year_1'] + ' ' + holdout1['year_2'] + ' ' + holdout1['year_3'])\n",
    "y_hol1 = np.array(holdout1['label'])\n",
    "\n",
    "X_hol2 = np.array(holdout2['year_1'] + ' ' + holdout2['year_2'] + ' ' + holdout2['year_3'])\n",
    "y_hol2 = np.array(holdout2['label'])\n",
    "\n",
    "# also store the company IDs for analysis later on\n",
    "cik_1 = np.array(holdout1['cik'])\n",
    "cik_2 = np.array(holdout2['cik'])"
   ]
  },
  {
   "cell_type": "code",
   "execution_count": null,
   "id": "320af7c5",
   "metadata": {},
   "outputs": [],
   "source": [
    "feature_constructor = feature.fit_transform(X_train)"
   ]
  },
  {
   "cell_type": "code",
   "execution_count": null,
   "id": "210f8d94",
   "metadata": {},
   "outputs": [],
   "source": [
    "scaler = StandardScaler(with_mean=False)\n",
    "data = scaler.fit_transform(feature_constructor)"
   ]
  },
  {
   "cell_type": "code",
   "execution_count": null,
   "id": "5e88ca60",
   "metadata": {},
   "outputs": [],
   "source": [
    "from sklearn.feature_selection import SelectKBest, chi2"
   ]
  },
  {
   "cell_type": "code",
   "execution_count": null,
   "id": "0064ed6f",
   "metadata": {},
   "outputs": [],
   "source": [
    "SelectKBest(k='all')"
   ]
  },
  {
   "cell_type": "code",
   "execution_count": null,
   "id": "a2732edc",
   "metadata": {},
   "outputs": [],
   "source": [
    "x = SelectKBest(k='all').fit_transform(data, y_train)"
   ]
  },
  {
   "cell_type": "code",
   "execution_count": null,
   "id": "08aca456",
   "metadata": {},
   "outputs": [],
   "source": [
    "print(x[9, :].toarray())"
   ]
  },
  {
   "cell_type": "code",
   "execution_count": null,
   "id": "84aad689",
   "metadata": {},
   "outputs": [],
   "source": [
    "C_range = [1e-05, 1e-03, 0.05, 0.1, 0.15, 0.5, 1, 10, 100, 1000, 5000]\n",
    "\n",
    "for C in C_range:\n",
    "    clf = LogisticRegression(C=C, penalty='l2', solver='lbfgs', max_iter=100).fit(x, y_train)\n",
    "    predictions = clf.predict_proba(x)\n",
    "    predictions_0 = [row[1] for row in predictions]\n",
    "    \n",
    "    print(roc_auc_score(y_train, predictions_0))"
   ]
  },
  {
   "cell_type": "code",
   "execution_count": null,
   "id": "ab043cd0",
   "metadata": {},
   "outputs": [],
   "source": [
    "clf.predict(x[:100, :])"
   ]
  },
  {
   "cell_type": "code",
   "execution_count": null,
   "id": "1b4e04d6",
   "metadata": {},
   "outputs": [],
   "source": [
    "roc_auc_score(clf.predict(x), y_train)"
   ]
  },
  {
   "cell_type": "code",
   "execution_count": null,
   "id": "e560a4bf",
   "metadata": {},
   "outputs": [],
   "source": [
    "y_train[:100]"
   ]
  },
  {
   "cell_type": "code",
   "execution_count": null,
   "id": "ad5489ce",
   "metadata": {},
   "outputs": [],
   "source": []
  }
 ],
 "metadata": {
  "kernelspec": {
   "display_name": "edgar",
   "language": "python",
   "name": "edgar"
  },
  "language_info": {
   "codemirror_mode": {
    "name": "ipython",
    "version": 3
   },
   "file_extension": ".py",
   "mimetype": "text/x-python",
   "name": "python",
   "nbconvert_exporter": "python",
   "pygments_lexer": "ipython3",
   "version": "3.11.4"
  }
 },
 "nbformat": 4,
 "nbformat_minor": 5
}
